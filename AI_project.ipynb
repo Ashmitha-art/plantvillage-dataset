{
 "cells": [
  {
   "cell_type": "markdown",
   "metadata": {},
   "source": [
    "# Feature Extraction Functions"
   ]
  },
  {
   "cell_type": "code",
   "execution_count": 1,
   "metadata": {
    "colab": {
     "base_uri": "https://localhost:8080/"
    },
    "id": "L2jxzd4Ig3pR",
    "outputId": "27ca3c5b-ea49-467f-f2de-5a42f3361143"
   },
   "outputs": [],
   "source": [
    "import os\n",
    "import cv2\n",
    "import numpy as np\n",
    "import mahotas as mt\n",
    "\n",
    "def extract_color_histogram(image):\n",
    "    hsv_image = cv2.cvtColor(image, cv2.COLOR_BGR2HSV)\n",
    "    hist_features = [cv2.calcHist([hsv_image], [i], None, [256], [0, 256]) for i in range(3)]\n",
    "    hist_features = np.concatenate(hist_features, axis=None)\n",
    "    return hist_features\n",
    "\n",
    "def extractHaralick(image):\n",
    "    if len(image.shape) == 3:\n",
    "        image = cv2.cvtColor(image, cv2.COLOR_BGR2GRAY)\n",
    "    textures = mt.features.haralick(image).mean(axis=0)\n",
    "    return textures\n",
    "\n",
    "def extractHuMoments(image):\n",
    "    if len(image.shape) == 3:\n",
    "        image = cv2.cvtColor(image, cv2.COLOR_BGR2GRAY)\n",
    "    moments = cv2.moments(image)\n",
    "    huMoments = cv2.HuMoments(moments)\n",
    "    huMoments = -1 * np.sign(huMoments) * np.log10(np.abs(huMoments))\n",
    "    return huMoments.flatten()\n"
   ]
  },
  {
   "cell_type": "code",
   "execution_count": 3,
   "metadata": {},
   "outputs": [
    {
     "name": "stdout",
     "output_type": "stream",
     "text": [
      "Number of color features: 18160\n",
      "Number of texture features: 18160\n",
      "Number of shape features: 18160\n",
      "Number of labels: 18160\n"
     ]
    }
   ],
   "source": [
    "# Initializing lists for different types of features\n",
    "color_features, texture_features, shape_features = [], [], []\n",
    "labels = []\n",
    "\n",
    "dataset_folders = ['color', 'grayscale', 'segmented']\n",
    "\n",
    "# Mapping the folders to corresponding functions and lists\n",
    "feature_extraction_map = {\n",
    "    'color': (extract_color_histogram, color_features),\n",
    "    'grayscale': (extractHaralick, texture_features),\n",
    "    'segmented': (extractHuMoments, shape_features)\n",
    "}\n",
    "\n",
    "# Iterating over the image files and apply the appropriate feature extraction\n",
    "for folder in dataset_folders:\n",
    "    subfolder_path = os.path.join('plantvillage-dataset', folder)\n",
    "    for label in os.listdir(subfolder_path):\n",
    "        if label.lower().startswith('tomato'):\n",
    "            label_path = os.path.join(subfolder_path, label)\n",
    "            for image_file in os.listdir(label_path):\n",
    "                image_path = os.path.join(label_path, image_file)\n",
    "                image = cv2.imread(image_path)\n",
    "                if image is not None:\n",
    "                    # Extracting features based on the folder and append to the correct list\n",
    "                    feature_func, feature_list = feature_extraction_map[folder]\n",
    "                    features = feature_func(image)\n",
    "                    feature_list.append(features)\n",
    "                    if folder == 'color':  # Assuming 'color' folder images are unique and a basis for labeling\n",
    "                        labels.append(label)\n",
    "\n",
    "# Converting lists to numpy arrays\n",
    "color_features = np.array(color_features)\n",
    "texture_features = np.array(texture_features)\n",
    "shape_features = np.array(shape_features)\n",
    "labels = np.array(labels)\n",
    "\n",
    "print(\"Number of color features:\", len(color_features))\n",
    "print(\"Number of texture features:\", len(texture_features))\n",
    "print(\"Number of shape features:\", len(shape_features))\n",
    "print(\"Number of labels:\", len(labels))\n"
   ]
  },
  {
   "cell_type": "markdown",
   "metadata": {},
   "source": [
    "# Load Images and Extract Features\n"
   ]
  },
  {
   "cell_type": "code",
   "execution_count": 4,
   "metadata": {
    "id": "mWeyiIZthAMs"
   },
   "outputs": [
    {
     "name": "stdout",
     "output_type": "stream",
     "text": [
      "Accuracy of Random Forest on Color Features: 0.9647577092511013\n",
      "Accuracy of SVM on Color Features: 0.9487885462555066\n",
      "Accuracy of Decision Tree on Shape Features: 0.2555066079295154\n",
      "Accuracy of K-Nearest Neighbors on Texture Features: 0.4856828193832599\n",
      "Accuracy of Logistic Regression on Haralick Features: 0.5831497797356828\n"
     ]
    }
   ],
   "source": [
    "from sklearn.model_selection import train_test_split\n",
    "from sklearn.metrics import accuracy_score\n",
    "from sklearn.preprocessing import StandardScaler\n",
    "from sklearn.ensemble import RandomForestClassifier\n",
    "from sklearn.tree import DecisionTreeClassifier\n",
    "from sklearn.neighbors import KNeighborsClassifier\n",
    "from sklearn.svm import SVC\n",
    "from sklearn.linear_model import LogisticRegression\n",
    "\n",
    "#Defining and train models\n",
    "\n",
    "def train_model(X, y, model, test_size=0.1, random_state=42):\n",
    "    X_train, X_test, y_train, y_test = train_test_split(X, y, test_size=test_size, random_state=random_state)\n",
    "    model.fit(X_train, y_train)\n",
    "    y_pred = model.predict(X_test)\n",
    "    return accuracy_score(y_test, y_pred)\n",
    "\n",
    "# Models\n",
    "models = {\n",
    "    \"Random Forest\": RandomForestClassifier(),\n",
    "    \"SVM\": SVC(),\n",
    "    \"Decision Tree\": DecisionTreeClassifier(),\n",
    "    \"K-Nearest Neighbors\": KNeighborsClassifier(n_neighbors=5),\n",
    "    \"Logistic Regression\": LogisticRegression(max_iter=10000)\n",
    "}\n",
    "\n",
    "# Evaluating each model on each feature set\n",
    "for name, model in models.items():\n",
    "    if name in [\"Random Forest\", \"SVM\"]:  # Assuming color features for these models\n",
    "        print(f\"Accuracy of {name} on Color Features: {train_model(color_features, labels, model)}\")\n",
    "    elif name == \"Decision Tree\":  # Assuming shape features\n",
    "        print(f\"Accuracy of {name} on Shape Features: {train_model(shape_features, labels, model)}\")\n",
    "    elif name == \"K-Nearest Neighbors\":  # Assuming texture features\n",
    "        print(f\"Accuracy of {name} on Texture Features: {train_model(texture_features, labels, model)}\")\n",
    "    elif name == \"Logistic Regression\":  # Assuming Haralick features\n",
    "        # Scaling features before logistic regression\n",
    "        scaler = StandardScaler()\n",
    "        scaled_features = scaler.fit_transform(texture_features)\n",
    "        print(f\"Accuracy of {name} on Haralick Features: {train_model(scaled_features, labels, model)}\")"
   ]
  }
 ],
 "metadata": {
  "colab": {
   "provenance": []
  },
  "kernelspec": {
   "display_name": "Python 3 (ipykernel)",
   "language": "python",
   "name": "python3"
  },
  "language_info": {
   "codemirror_mode": {
    "name": "ipython",
    "version": 3
   },
   "file_extension": ".py",
   "mimetype": "text/x-python",
   "name": "python",
   "nbconvert_exporter": "python",
   "pygments_lexer": "ipython3",
   "version": "3.11.7"
  }
 },
 "nbformat": 4,
 "nbformat_minor": 4
}
